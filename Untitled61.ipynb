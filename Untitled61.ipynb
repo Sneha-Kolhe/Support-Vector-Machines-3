{
 "cells": [
  {
   "cell_type": "markdown",
   "id": "6cb8ba1e-f350-4f16-a333-d4e60d77cf5e",
   "metadata": {},
   "source": [
    "## Q1. In order to predict house price based on several characteristics, such as location, square footage,\n",
    "number of bedrooms, etc., you are developing an SVM regression model. Which regression metric in this\n",
    "situation would be the best to employ?"
   ]
  },
  {
   "cell_type": "code",
   "execution_count": null,
   "id": "9132d088-2446-442d-b11a-230dcf882483",
   "metadata": {},
   "outputs": [],
   "source": [
    "Interpretability: RMSE provides a measure of the average magnitude of the errors made by the model in predicting house prices. Since house prices are typically measured in dollars (or other currency units), the RMSE value can be interpreted directly in the same units as the target variable (i.e., dollars). This makes it easy to understand the magnitude of prediction errors in terms of currency.\n",
    "\n",
    "Sensitivity to Large Errors: RMSE penalizes larger prediction errors more heavily compared to other metrics like Mean Absolute Error (MAE). In the context of predicting house prices, large errors can have significant financial implications for both buyers and sellers. By using RMSE, you ensure that the model's performance is sensitive to these larger errors.\n",
    "\n",
    "Model Comparison: RMSE allows for easy comparison of the performance of different regression models. When comparing multiple SVM regression models or comparing SVM regression with other regression techniques (e.g., linear regression, decision tree regression), RMSE provides a standardized metric for assessing predictive accuracy.\n",
    "\n",
    "Emphasis on Predictive Accuracy: In real estate, accurate predictions of house prices are essential for making informed decisions regarding buying, selling, or investing in properties. RMSE directly measures the accuracy of the model's predictions and reflects how well the model captures the variability in house prices based on the given characteristics."
   ]
  },
  {
   "cell_type": "code",
   "execution_count": null,
   "id": "a28fbcf4-bc67-4063-9861-956d331476c3",
   "metadata": {},
   "outputs": [],
   "source": []
  }
 ],
 "metadata": {
  "kernelspec": {
   "display_name": "Python 3 (ipykernel)",
   "language": "python",
   "name": "python3"
  },
  "language_info": {
   "codemirror_mode": {
    "name": "ipython",
    "version": 3
   },
   "file_extension": ".py",
   "mimetype": "text/x-python",
   "name": "python",
   "nbconvert_exporter": "python",
   "pygments_lexer": "ipython3",
   "version": "3.10.8"
  }
 },
 "nbformat": 4,
 "nbformat_minor": 5
}
